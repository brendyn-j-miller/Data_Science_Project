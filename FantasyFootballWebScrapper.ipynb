{
  "nbformat": 4,
  "nbformat_minor": 0,
  "metadata": {
    "colab": {
      "name": "FantasyFootballWebScrapper.ipynb",
      "provenance": [],
      "collapsed_sections": [],
      "authorship_tag": "ABX9TyPBylZoKa/SdbUgtCoyrQc2",
      "include_colab_link": true
    },
    "kernelspec": {
      "name": "python3",
      "display_name": "Python 3"
    }
  },
  "cells": [
    {
      "cell_type": "markdown",
      "metadata": {
        "id": "view-in-github",
        "colab_type": "text"
      },
      "source": [
        "<a href=\"https://colab.research.google.com/github/brendyn-j-miller/Data_Science_Project/blob/master/FantasyFootballWebScrapper.ipynb\" target=\"_parent\"><img src=\"https://colab.research.google.com/assets/colab-badge.svg\" alt=\"Open In Colab\"/></a>"
      ]
    },
    {
      "cell_type": "code",
      "metadata": {
        "id": "ZyVivkF2GBWy",
        "colab_type": "code",
        "colab": {}
      },
      "source": [
        "# Import libraries\n",
        "import pandas as pd\n",
        "from requests import get\n",
        "from bs4 import BeautifulSoup\n",
        "from google.colab import files"
      ],
      "execution_count": 16,
      "outputs": []
    },
    {
      "cell_type": "code",
      "metadata": {
        "id": "4FGoRaJ-HBFy",
        "colab_type": "code",
        "colab": {
          "base_uri": "https://localhost:8080/",
          "height": 51
        },
        "outputId": "bf27ac56-77da-4b68-b6ac-ed0bb7a27f6f"
      },
      "source": [
        "# Get the input from the user\n",
        "year = input('What season? (Note: Input a season between 1999 and 2019) ')\n",
        "week = input('What week of {0} season? '.format(year))\n",
        "\n",
        "year, week = int(year), int(week)\n"
      ],
      "execution_count": 17,
      "outputs": [
        {
          "output_type": "stream",
          "text": [
            "What season? (Note: Input a season between 1999 and 2019) 2019\n",
            "What week of 2019 season? 1\n"
          ],
          "name": "stdout"
        }
      ]
    },
    {
      "cell_type": "code",
      "metadata": {
        "id": "vDKss3i0JiLE",
        "colab_type": "code",
        "colab": {}
      },
      "source": [
        "# Define webpage URLs\n",
        "passingURL = \"\"\" \n",
        "https://www.pro-football-reference.com/play-index/pgl_finder.cgi?request=1&match=game&year_min={year}&year_max={year}&season_start=1&season_end=-1&age_min=0&age_max=99&game_type=A&league_id=&team_id=&opp_id=&game_num_min=0&game_num_max=99&week_num_min={week}&week_num_max={week}&game_day_of_week=&game_location=&game_result=&handedness=&is_active=&is_hof=&c1stat=pass_att&c1comp=gt&c1val=1&c2stat=&c2comp=gt&c2val=&c3stat=&c3comp=gt&c3val=&c4stat=&c4comp=gt&c4val=&order_by=pass_rating&from_link=1\n",
        "\"\"\".format(year=year, week=week)\n",
        "receivingURL = \"\"\"\n",
        "https://www.pro-football-reference.com/play-index/pgl_finder.cgi?request=1&match=game&year_min={year}&year_max={year}&season_start=1&season_end=-1&age_min=0&age_max=99&game_type=A&league_id=&team_id=&opp_id=&game_num_min=0&game_num_max=99&week_num_min={week}&week_num_max={week}&game_day_of_week=&game_location=&game_result=&handedness=&is_active=&is_hof=&c1stat=rec&c1comp=gt&c1val=1&c2stat=&c2comp=gt&c2val=&c3stat=&c3comp=gt&c3val=&c4stat=&c4comp=gt&c4val=&order_by=rec_yds&from_link=1\n",
        "\"\"\".format(year=year, week=week)\n",
        "rushingURL = \"\"\"\n",
        "https://www.pro-football-reference.com/play-index/pgl_finder.cgi?request=1&match=game&year_min={year}&year_max={year}&season_start=1&season_end=-1&age_min=0&age_max=99&game_type=A&league_id=&team_id=&opp_id=&game_num_min=0&game_num_max=99&week_num_min={week}&week_num_max={week}&game_day_of_week=&game_location=&game_result=&handedness=&is_active=&is_hof=&c1stat=rush_att&c1comp=gt&c1val=1&c2stat=&c2comp=gt&c2val=&c3stat=&c3comp=gt&c3val=&c4stat=&c4comp=gt&c4val=&order_by=rush_yds&from_link=1\n",
        "\"\"\".format(year=year, week=week)\n",
        "urls = {\n",
        "    'Passing': passingURL,\n",
        "    'Receiving': receivingURL,\n",
        "    'Rushing': rushingURL\n",
        "}"
      ],
      "execution_count": 18,
      "outputs": []
    },
    {
      "cell_type": "code",
      "metadata": {
        "id": "1Mo4KuMAJx1P",
        "colab_type": "code",
        "colab": {
          "base_uri": "https://localhost:8080/",
          "height": 235
        },
        "outputId": "e77d53fe-ae46-4a4f-8f05-763c92842870"
      },
      "source": [
        "# Create dataframes for each stat\n",
        "dfs = []\n",
        "for key, url in urls.items():\n",
        "  response = get(url)\n",
        "  soup = BeautifulSoup(response.content,'html.parser')\n",
        "  table = soup.find('table',{'id':'results'})\n",
        "  df = pd.read_html(str(table))[0]\n",
        "  df.columns = df.columns.droplevel(level=0)\n",
        "  df.drop(['Result','Week','G#','Opp','Unnamed: 7_level_1', 'Age', \n",
        "           'Rk', 'Lg', 'Date', 'Day'], axis = 1, inplace = True)\n",
        "  df = df[df['Pos'] != 'Pos']\n",
        "  df.set_index(['Player', 'Pos', 'Tm'], inplace=True)\n",
        "  if key == 'Passing':\n",
        "    df = df[['Yds', 'TD', 'Int', 'Att', 'Cmp']]\n",
        "    df.rename({'Yds': 'PassingYds', 'Att': 'PassingAtt', 'Y/A': 'Y/PassingAtt', 'TD': 'PassingTD'}, axis = 1, inplace = True)\n",
        "  elif key =='Receiving':\n",
        "    df = df[['Rec', 'Tgt', 'Yds', 'TD']]\n",
        "    df.rename({'Yds': 'ReceivingYds', 'TD': 'ReceivingTD'}, axis = 1, inplace = True)\n",
        "  elif key == 'Rushing':\n",
        "    df.drop('Y/A', axis = 1, inplace = True)\n",
        "    df.rename({'Att': 'RushingAtt', 'Yds': 'RushingYds', 'TD': 'RushingTD'}, axis = 1, inplace = True)\n",
        "  dfs.append(df)\n",
        "df = dfs[0].join(dfs[1:], how = 'outer')\n",
        "df.fillna(0, inplace = True)\n",
        "df = df.astype('int64')\n",
        "df.fillna(0, inplace=True)\n",
        "df = df.astype('int64')\n",
        "\n",
        "df.head()"
      ],
      "execution_count": 19,
      "outputs": [
        {
          "output_type": "execute_result",
          "data": {
            "text/html": [
              "<div>\n",
              "<style scoped>\n",
              "    .dataframe tbody tr th:only-of-type {\n",
              "        vertical-align: middle;\n",
              "    }\n",
              "\n",
              "    .dataframe tbody tr th {\n",
              "        vertical-align: top;\n",
              "    }\n",
              "\n",
              "    .dataframe thead th {\n",
              "        text-align: right;\n",
              "    }\n",
              "</style>\n",
              "<table border=\"1\" class=\"dataframe\">\n",
              "  <thead>\n",
              "    <tr style=\"text-align: right;\">\n",
              "      <th></th>\n",
              "      <th></th>\n",
              "      <th></th>\n",
              "      <th>PassingYds</th>\n",
              "      <th>PassingTD</th>\n",
              "      <th>Int</th>\n",
              "      <th>PassingAtt</th>\n",
              "      <th>Cmp</th>\n",
              "      <th>Rec</th>\n",
              "      <th>Tgt</th>\n",
              "      <th>ReceivingYds</th>\n",
              "      <th>ReceivingTD</th>\n",
              "      <th>RushingAtt</th>\n",
              "      <th>RushingYds</th>\n",
              "      <th>RushingTD</th>\n",
              "    </tr>\n",
              "    <tr>\n",
              "      <th>Player</th>\n",
              "      <th>Pos</th>\n",
              "      <th>Tm</th>\n",
              "      <th></th>\n",
              "      <th></th>\n",
              "      <th></th>\n",
              "      <th></th>\n",
              "      <th></th>\n",
              "      <th></th>\n",
              "      <th></th>\n",
              "      <th></th>\n",
              "      <th></th>\n",
              "      <th></th>\n",
              "      <th></th>\n",
              "      <th></th>\n",
              "    </tr>\n",
              "  </thead>\n",
              "  <tbody>\n",
              "    <tr>\n",
              "      <th>A.J. Brown</th>\n",
              "      <th>WR</th>\n",
              "      <th>TEN</th>\n",
              "      <td>0</td>\n",
              "      <td>0</td>\n",
              "      <td>0</td>\n",
              "      <td>0</td>\n",
              "      <td>0</td>\n",
              "      <td>3</td>\n",
              "      <td>4</td>\n",
              "      <td>100</td>\n",
              "      <td>0</td>\n",
              "      <td>0</td>\n",
              "      <td>0</td>\n",
              "      <td>0</td>\n",
              "    </tr>\n",
              "    <tr>\n",
              "      <th>Aaron Jones</th>\n",
              "      <th>RB</th>\n",
              "      <th>GNB</th>\n",
              "      <td>0</td>\n",
              "      <td>0</td>\n",
              "      <td>0</td>\n",
              "      <td>0</td>\n",
              "      <td>0</td>\n",
              "      <td>0</td>\n",
              "      <td>0</td>\n",
              "      <td>0</td>\n",
              "      <td>0</td>\n",
              "      <td>13</td>\n",
              "      <td>39</td>\n",
              "      <td>0</td>\n",
              "    </tr>\n",
              "    <tr>\n",
              "      <th>Aaron Rodgers</th>\n",
              "      <th>QB</th>\n",
              "      <th>GNB</th>\n",
              "      <td>203</td>\n",
              "      <td>1</td>\n",
              "      <td>0</td>\n",
              "      <td>30</td>\n",
              "      <td>18</td>\n",
              "      <td>0</td>\n",
              "      <td>0</td>\n",
              "      <td>0</td>\n",
              "      <td>0</td>\n",
              "      <td>3</td>\n",
              "      <td>8</td>\n",
              "      <td>0</td>\n",
              "    </tr>\n",
              "    <tr>\n",
              "      <th>Adam Thielen</th>\n",
              "      <th>WR</th>\n",
              "      <th>MIN</th>\n",
              "      <td>0</td>\n",
              "      <td>0</td>\n",
              "      <td>0</td>\n",
              "      <td>0</td>\n",
              "      <td>0</td>\n",
              "      <td>3</td>\n",
              "      <td>3</td>\n",
              "      <td>43</td>\n",
              "      <td>1</td>\n",
              "      <td>0</td>\n",
              "      <td>0</td>\n",
              "      <td>0</td>\n",
              "    </tr>\n",
              "    <tr>\n",
              "      <th>Alexander Mattison</th>\n",
              "      <th>RB</th>\n",
              "      <th>MIN</th>\n",
              "      <td>0</td>\n",
              "      <td>0</td>\n",
              "      <td>0</td>\n",
              "      <td>0</td>\n",
              "      <td>0</td>\n",
              "      <td>0</td>\n",
              "      <td>0</td>\n",
              "      <td>0</td>\n",
              "      <td>0</td>\n",
              "      <td>9</td>\n",
              "      <td>49</td>\n",
              "      <td>0</td>\n",
              "    </tr>\n",
              "  </tbody>\n",
              "</table>\n",
              "</div>"
            ],
            "text/plain": [
              "                            PassingYds  PassingTD  ...  RushingYds  RushingTD\n",
              "Player             Pos Tm                          ...                       \n",
              "A.J. Brown         WR  TEN           0          0  ...           0          0\n",
              "Aaron Jones        RB  GNB           0          0  ...          39          0\n",
              "Aaron Rodgers      QB  GNB         203          1  ...           8          0\n",
              "Adam Thielen       WR  MIN           0          0  ...           0          0\n",
              "Alexander Mattison RB  MIN           0          0  ...          49          0\n",
              "\n",
              "[5 rows x 12 columns]"
            ]
          },
          "metadata": {
            "tags": []
          },
          "execution_count": 19
        }
      ]
    },
    {
      "cell_type": "code",
      "metadata": {
        "id": "eU77NXK7NyYG",
        "colab_type": "code",
        "colab": {}
      },
      "source": [
        "# Calculate the fantasy points for a player\n",
        "df['FantasyPoints'] = df['PassingYds']/25 + df['PassingTD']*4 - df['Int']*2 + df['Rec'] + df['ReceivingYds']/10 + df['ReceivingTD']*6 + df['RushingYds']/10 + df['RushingTD']*6\n",
        "\n",
        "df.reset_index(inplace=True)"
      ],
      "execution_count": 20,
      "outputs": []
    },
    {
      "cell_type": "code",
      "metadata": {
        "id": "A2z225i0N-0S",
        "colab_type": "code",
        "colab": {
          "base_uri": "https://localhost:8080/",
          "height": 17
        },
        "outputId": "bf5b841e-a9bd-4c42-b91e-0a88b0cc45fc"
      },
      "source": [
        "# Saving and downloading the dataframe\n",
        "try:\n",
        "  df.to_csv('season{}_week{}.csv'.format(year, week))\n",
        "except IndexError:\n",
        "    pass"
      ],
      "execution_count": 22,
      "outputs": [
        {
          "output_type": "display_data",
          "data": {
            "application/javascript": [
              "\n",
              "    async function download(id, filename, size) {\n",
              "      if (!google.colab.kernel.accessAllowed) {\n",
              "        return;\n",
              "      }\n",
              "      const div = document.createElement('div');\n",
              "      const label = document.createElement('label');\n",
              "      label.textContent = `Downloading \"${filename}\": `;\n",
              "      div.appendChild(label);\n",
              "      const progress = document.createElement('progress');\n",
              "      progress.max = size;\n",
              "      div.appendChild(progress);\n",
              "      document.body.appendChild(div);\n",
              "\n",
              "      const buffers = [];\n",
              "      let downloaded = 0;\n",
              "\n",
              "      const channel = await google.colab.kernel.comms.open(id);\n",
              "      // Send a message to notify the kernel that we're ready.\n",
              "      channel.send({})\n",
              "\n",
              "      for await (const message of channel.messages) {\n",
              "        // Send a message to notify the kernel that we're ready.\n",
              "        channel.send({})\n",
              "        if (message.buffers) {\n",
              "          for (const buffer of message.buffers) {\n",
              "            buffers.push(buffer);\n",
              "            downloaded += buffer.byteLength;\n",
              "            progress.value = downloaded;\n",
              "          }\n",
              "        }\n",
              "      }\n",
              "      const blob = new Blob(buffers, {type: 'application/binary'});\n",
              "      const a = document.createElement('a');\n",
              "      a.href = window.URL.createObjectURL(blob);\n",
              "      a.download = filename;\n",
              "      div.appendChild(a);\n",
              "      a.click();\n",
              "      div.remove();\n",
              "    }\n",
              "  "
            ],
            "text/plain": [
              "<IPython.core.display.Javascript object>"
            ]
          },
          "metadata": {
            "tags": []
          }
        },
        {
          "output_type": "display_data",
          "data": {
            "application/javascript": [
              "download(\"download_4ce9e995-c3e7-4500-b399-812688ce61b5\", \"season2019_week1.csv\", 11059)"
            ],
            "text/plain": [
              "<IPython.core.display.Javascript object>"
            ]
          },
          "metadata": {
            "tags": []
          }
        }
      ]
    },
    {
      "cell_type": "code",
      "metadata": {
        "id": "SgAxfHkIRCDV",
        "colab_type": "code",
        "colab": {}
      },
      "source": [
        "# Uncomment this section if you wish to download the csv file\n",
        "\n",
        "3files.download('season{}_week{}.csv'.format(year, week))"
      ],
      "execution_count": null,
      "outputs": []
    }
  ]
}