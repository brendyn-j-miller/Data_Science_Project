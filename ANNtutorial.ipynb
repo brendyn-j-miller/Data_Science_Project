{
  "nbformat": 4,
  "nbformat_minor": 0,
  "metadata": {
    "colab": {
      "name": "ANNtutorial.ipynb",
      "provenance": [],
      "authorship_tag": "ABX9TyPcEkNFLzATtir65AjXigSJ"
    },
    "kernelspec": {
      "name": "python3",
      "display_name": "Python 3"
    }
  },
  "cells": [
    {
      "cell_type": "code",
      "metadata": {
        "id": "o7CybCWhO7Ce",
        "colab_type": "code",
        "colab": {
          "base_uri": "https://localhost:8080/",
          "height": 666
        },
        "outputId": "b096adba-daff-4257-ac2b-76544aaad5cc"
      },
      "source": [
        "!pip install tensorflow"
      ],
      "execution_count": 2,
      "outputs": [
        {
          "output_type": "stream",
          "text": [
            "Requirement already satisfied: tensorflow in /usr/local/lib/python3.6/dist-packages (2.2.0)\n",
            "Requirement already satisfied: tensorboard<2.3.0,>=2.2.0 in /usr/local/lib/python3.6/dist-packages (from tensorflow) (2.2.2)\n",
            "Requirement already satisfied: grpcio>=1.8.6 in /usr/local/lib/python3.6/dist-packages (from tensorflow) (1.29.0)\n",
            "Requirement already satisfied: absl-py>=0.7.0 in /usr/local/lib/python3.6/dist-packages (from tensorflow) (0.9.0)\n",
            "Requirement already satisfied: astunparse==1.6.3 in /usr/local/lib/python3.6/dist-packages (from tensorflow) (1.6.3)\n",
            "Requirement already satisfied: google-pasta>=0.1.8 in /usr/local/lib/python3.6/dist-packages (from tensorflow) (0.2.0)\n",
            "Requirement already satisfied: protobuf>=3.8.0 in /usr/local/lib/python3.6/dist-packages (from tensorflow) (3.10.0)\n",
            "Requirement already satisfied: termcolor>=1.1.0 in /usr/local/lib/python3.6/dist-packages (from tensorflow) (1.1.0)\n",
            "Requirement already satisfied: six>=1.12.0 in /usr/local/lib/python3.6/dist-packages (from tensorflow) (1.12.0)\n",
            "Requirement already satisfied: keras-preprocessing>=1.1.0 in /usr/local/lib/python3.6/dist-packages (from tensorflow) (1.1.2)\n",
            "Requirement already satisfied: wrapt>=1.11.1 in /usr/local/lib/python3.6/dist-packages (from tensorflow) (1.12.1)\n",
            "Requirement already satisfied: h5py<2.11.0,>=2.10.0 in /usr/local/lib/python3.6/dist-packages (from tensorflow) (2.10.0)\n",
            "Requirement already satisfied: opt-einsum>=2.3.2 in /usr/local/lib/python3.6/dist-packages (from tensorflow) (3.2.1)\n",
            "Requirement already satisfied: scipy==1.4.1; python_version >= \"3\" in /usr/local/lib/python3.6/dist-packages (from tensorflow) (1.4.1)\n",
            "Requirement already satisfied: wheel>=0.26; python_version >= \"3\" in /usr/local/lib/python3.6/dist-packages (from tensorflow) (0.34.2)\n",
            "Requirement already satisfied: numpy<2.0,>=1.16.0 in /usr/local/lib/python3.6/dist-packages (from tensorflow) (1.18.5)\n",
            "Requirement already satisfied: tensorflow-estimator<2.3.0,>=2.2.0 in /usr/local/lib/python3.6/dist-packages (from tensorflow) (2.2.0)\n",
            "Requirement already satisfied: gast==0.3.3 in /usr/local/lib/python3.6/dist-packages (from tensorflow) (0.3.3)\n",
            "Requirement already satisfied: google-auth<2,>=1.6.3 in /usr/local/lib/python3.6/dist-packages (from tensorboard<2.3.0,>=2.2.0->tensorflow) (1.17.2)\n",
            "Requirement already satisfied: requests<3,>=2.21.0 in /usr/local/lib/python3.6/dist-packages (from tensorboard<2.3.0,>=2.2.0->tensorflow) (2.23.0)\n",
            "Requirement already satisfied: werkzeug>=0.11.15 in /usr/local/lib/python3.6/dist-packages (from tensorboard<2.3.0,>=2.2.0->tensorflow) (1.0.1)\n",
            "Requirement already satisfied: markdown>=2.6.8 in /usr/local/lib/python3.6/dist-packages (from tensorboard<2.3.0,>=2.2.0->tensorflow) (3.2.2)\n",
            "Requirement already satisfied: tensorboard-plugin-wit>=1.6.0 in /usr/local/lib/python3.6/dist-packages (from tensorboard<2.3.0,>=2.2.0->tensorflow) (1.6.0.post3)\n",
            "Requirement already satisfied: google-auth-oauthlib<0.5,>=0.4.1 in /usr/local/lib/python3.6/dist-packages (from tensorboard<2.3.0,>=2.2.0->tensorflow) (0.4.1)\n",
            "Requirement already satisfied: setuptools>=41.0.0 in /usr/local/lib/python3.6/dist-packages (from tensorboard<2.3.0,>=2.2.0->tensorflow) (47.3.1)\n",
            "Requirement already satisfied: rsa<5,>=3.1.4; python_version >= \"3\" in /usr/local/lib/python3.6/dist-packages (from google-auth<2,>=1.6.3->tensorboard<2.3.0,>=2.2.0->tensorflow) (4.6)\n",
            "Requirement already satisfied: pyasn1-modules>=0.2.1 in /usr/local/lib/python3.6/dist-packages (from google-auth<2,>=1.6.3->tensorboard<2.3.0,>=2.2.0->tensorflow) (0.2.8)\n",
            "Requirement already satisfied: cachetools<5.0,>=2.0.0 in /usr/local/lib/python3.6/dist-packages (from google-auth<2,>=1.6.3->tensorboard<2.3.0,>=2.2.0->tensorflow) (4.1.0)\n",
            "Requirement already satisfied: chardet<4,>=3.0.2 in /usr/local/lib/python3.6/dist-packages (from requests<3,>=2.21.0->tensorboard<2.3.0,>=2.2.0->tensorflow) (3.0.4)\n",
            "Requirement already satisfied: urllib3!=1.25.0,!=1.25.1,<1.26,>=1.21.1 in /usr/local/lib/python3.6/dist-packages (from requests<3,>=2.21.0->tensorboard<2.3.0,>=2.2.0->tensorflow) (1.24.3)\n",
            "Requirement already satisfied: certifi>=2017.4.17 in /usr/local/lib/python3.6/dist-packages (from requests<3,>=2.21.0->tensorboard<2.3.0,>=2.2.0->tensorflow) (2020.4.5.2)\n",
            "Requirement already satisfied: idna<3,>=2.5 in /usr/local/lib/python3.6/dist-packages (from requests<3,>=2.21.0->tensorboard<2.3.0,>=2.2.0->tensorflow) (2.9)\n",
            "Requirement already satisfied: importlib-metadata; python_version < \"3.8\" in /usr/local/lib/python3.6/dist-packages (from markdown>=2.6.8->tensorboard<2.3.0,>=2.2.0->tensorflow) (1.6.1)\n",
            "Requirement already satisfied: requests-oauthlib>=0.7.0 in /usr/local/lib/python3.6/dist-packages (from google-auth-oauthlib<0.5,>=0.4.1->tensorboard<2.3.0,>=2.2.0->tensorflow) (1.3.0)\n",
            "Requirement already satisfied: pyasn1>=0.1.3 in /usr/local/lib/python3.6/dist-packages (from rsa<5,>=3.1.4; python_version >= \"3\"->google-auth<2,>=1.6.3->tensorboard<2.3.0,>=2.2.0->tensorflow) (0.4.8)\n",
            "Requirement already satisfied: zipp>=0.5 in /usr/local/lib/python3.6/dist-packages (from importlib-metadata; python_version < \"3.8\"->markdown>=2.6.8->tensorboard<2.3.0,>=2.2.0->tensorflow) (3.1.0)\n",
            "Requirement already satisfied: oauthlib>=3.0.0 in /usr/local/lib/python3.6/dist-packages (from requests-oauthlib>=0.7.0->google-auth-oauthlib<0.5,>=0.4.1->tensorboard<2.3.0,>=2.2.0->tensorflow) (3.1.0)\n"
          ],
          "name": "stdout"
        }
      ]
    },
    {
      "cell_type": "code",
      "metadata": {
        "id": "BoEBUwUGRHcy",
        "colab_type": "code",
        "colab": {
          "base_uri": "https://localhost:8080/",
          "height": 34
        },
        "outputId": "1ef21c16-7c2c-4aa4-ae03-d1223c3b112e"
      },
      "source": [
        "import tensorflow as tf\n",
        "print(tf.__version__)"
      ],
      "execution_count": 3,
      "outputs": [
        {
          "output_type": "stream",
          "text": [
            "2.2.0\n"
          ],
          "name": "stdout"
        }
      ]
    },
    {
      "cell_type": "code",
      "metadata": {
        "id": "YQTp9WTjRP0r",
        "colab_type": "code",
        "colab": {}
      },
      "source": [
        "#pip install tensorflow-gpu "
      ],
      "execution_count": 4,
      "outputs": []
    },
    {
      "cell_type": "code",
      "metadata": {
        "id": "gn5BUuZjZChr",
        "colab_type": "code",
        "colab": {
          "resources": {
            "http://localhost:8080/nbextensions/google.colab/files.js": {
              "data": "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",
              "ok": true,
              "headers": [
                [
                  "content-type",
                  "application/javascript"
                ]
              ],
              "status": 200,
              "status_text": ""
            }
          },
          "base_uri": "https://localhost:8080/",
          "height": 175
        },
        "outputId": "3b3d7772-0f2e-48af-b85a-63c3fba7868c"
      },
      "source": [
        "import pandas as pd\n",
        "\n",
        "from google.colab import files\n",
        "file = files.upload()\n",
        "X_train = pd.read_csv(\"xtrain.csv\", header=None)\n",
        "Y_train = pd.read_csv(\"ytrain.csv\", header=None)\n",
        "X_test = pd.read_csv(\"xtest.csv\", header=None)\n",
        "Y_test = pd.read_csv(\"ytest.csv\", header=None)"
      ],
      "execution_count": 5,
      "outputs": [
        {
          "output_type": "display_data",
          "data": {
            "text/html": [
              "\n",
              "     <input type=\"file\" id=\"files-405390b2-b5b3-4cb5-a523-7bee0bbfc869\" name=\"files[]\" multiple disabled\n",
              "        style=\"border:none\" />\n",
              "     <output id=\"result-405390b2-b5b3-4cb5-a523-7bee0bbfc869\">\n",
              "      Upload widget is only available when the cell has been executed in the\n",
              "      current browser session. Please rerun this cell to enable.\n",
              "      </output>\n",
              "      <script src=\"/nbextensions/google.colab/files.js\"></script> "
            ],
            "text/plain": [
              "<IPython.core.display.HTML object>"
            ]
          },
          "metadata": {
            "tags": []
          }
        },
        {
          "output_type": "stream",
          "text": [
            "Saving xtrain.csv to xtrain.csv\n",
            "Saving xtest.csv to xtest.csv\n",
            "Saving ytrain.csv to ytrain.csv\n",
            "Saving ytest.csv to ytest.csv\n"
          ],
          "name": "stdout"
        }
      ]
    },
    {
      "cell_type": "code",
      "metadata": {
        "id": "-aIRjjrcbtNG",
        "colab_type": "code",
        "colab": {
          "base_uri": "https://localhost:8080/",
          "height": 34
        },
        "outputId": "2c09b11f-1d3f-46b4-b1fc-ca40d6623328"
      },
      "source": [
        "from keras.models import Sequential\n",
        "from keras.layers import Dense\n",
        "\n",
        "classifier = Sequential() # Initialising the ANN\n",
        "\n",
        "classifier.add(Dense(units = 16, activation = 'relu', input_dim = 30))\n",
        "classifier.add(Dense(units = 8, activation = 'relu'))\n",
        "classifier.add(Dense(units = 6, activation = 'relu'))\n",
        "classifier.add(Dense(units = 1, activation = 'sigmoid'))"
      ],
      "execution_count": 6,
      "outputs": [
        {
          "output_type": "stream",
          "text": [
            "Using TensorFlow backend.\n"
          ],
          "name": "stderr"
        }
      ]
    },
    {
      "cell_type": "code",
      "metadata": {
        "id": "yaZpYxJzcTEW",
        "colab_type": "code",
        "colab": {}
      },
      "source": [
        "classifier.compile(optimizer = 'rmsprop', loss = 'binary_crossentropy')"
      ],
      "execution_count": 7,
      "outputs": []
    },
    {
      "cell_type": "code",
      "metadata": {
        "id": "RmFW7f4UcoeA",
        "colab_type": "code",
        "colab": {
          "base_uri": "https://localhost:8080/",
          "height": 1000
        },
        "outputId": "16518625-9bc8-41ee-9c28-ae2a49b3b6da"
      },
      "source": [
        "classifier.fit(X_train, Y_train, batch_size = 1, epochs = 100)"
      ],
      "execution_count": 8,
      "outputs": [
        {
          "output_type": "stream",
          "text": [
            "Epoch 1/100\n",
            "455/455 [==============================] - 1s 2ms/step - loss: 0.4474\n",
            "Epoch 2/100\n",
            "455/455 [==============================] - 0s 1ms/step - loss: 0.1581\n",
            "Epoch 3/100\n",
            "455/455 [==============================] - 0s 1ms/step - loss: 0.1123\n",
            "Epoch 4/100\n",
            "455/455 [==============================] - 1s 1ms/step - loss: 0.0962\n",
            "Epoch 5/100\n",
            "455/455 [==============================] - 0s 1ms/step - loss: 0.0967\n",
            "Epoch 6/100\n",
            "455/455 [==============================] - 0s 1ms/step - loss: 0.0903\n",
            "Epoch 7/100\n",
            "455/455 [==============================] - 0s 1ms/step - loss: 0.0896\n",
            "Epoch 8/100\n",
            "455/455 [==============================] - 0s 1ms/step - loss: 0.0888\n",
            "Epoch 9/100\n",
            "455/455 [==============================] - 0s 1ms/step - loss: 0.0814\n",
            "Epoch 10/100\n",
            "455/455 [==============================] - 0s 1ms/step - loss: 0.0793\n",
            "Epoch 11/100\n",
            "455/455 [==============================] - 0s 1ms/step - loss: 0.0736\n",
            "Epoch 12/100\n",
            "455/455 [==============================] - 1s 1ms/step - loss: 0.0784\n",
            "Epoch 13/100\n",
            "455/455 [==============================] - 0s 1ms/step - loss: 0.0784\n",
            "Epoch 14/100\n",
            "455/455 [==============================] - 0s 1ms/step - loss: 0.0729\n",
            "Epoch 15/100\n",
            "455/455 [==============================] - 0s 1ms/step - loss: 0.0680\n",
            "Epoch 16/100\n",
            "455/455 [==============================] - 0s 1ms/step - loss: 0.0744\n",
            "Epoch 17/100\n",
            "455/455 [==============================] - 0s 1ms/step - loss: 0.0737\n",
            "Epoch 18/100\n",
            "455/455 [==============================] - 1s 1ms/step - loss: 0.0642\n",
            "Epoch 19/100\n",
            "455/455 [==============================] - 1s 1ms/step - loss: 0.0623\n",
            "Epoch 20/100\n",
            "455/455 [==============================] - 0s 1ms/step - loss: 0.0632\n",
            "Epoch 21/100\n",
            "455/455 [==============================] - 0s 1ms/step - loss: 0.0650\n",
            "Epoch 22/100\n",
            "455/455 [==============================] - 0s 1ms/step - loss: 0.0681\n",
            "Epoch 23/100\n",
            "455/455 [==============================] - 0s 1ms/step - loss: 0.0686\n",
            "Epoch 24/100\n",
            "455/455 [==============================] - 1s 1ms/step - loss: 0.0609\n",
            "Epoch 25/100\n",
            "455/455 [==============================] - 0s 1ms/step - loss: 0.0623\n",
            "Epoch 26/100\n",
            "455/455 [==============================] - 0s 1ms/step - loss: 0.0713\n",
            "Epoch 27/100\n",
            "455/455 [==============================] - 0s 1ms/step - loss: 0.0730\n",
            "Epoch 28/100\n",
            "455/455 [==============================] - 0s 1ms/step - loss: 0.0688\n",
            "Epoch 29/100\n",
            "455/455 [==============================] - 0s 1ms/step - loss: 0.0697\n",
            "Epoch 30/100\n",
            "455/455 [==============================] - 0s 1ms/step - loss: 0.0653\n",
            "Epoch 31/100\n",
            "455/455 [==============================] - 0s 1ms/step - loss: 0.0760\n",
            "Epoch 32/100\n",
            "455/455 [==============================] - 0s 1ms/step - loss: 0.0705\n",
            "Epoch 33/100\n",
            "455/455 [==============================] - 0s 1ms/step - loss: 0.0684\n",
            "Epoch 34/100\n",
            "455/455 [==============================] - 0s 1ms/step - loss: 0.0635\n",
            "Epoch 35/100\n",
            "455/455 [==============================] - 0s 1ms/step - loss: 0.0581\n",
            "Epoch 36/100\n",
            "455/455 [==============================] - 0s 1ms/step - loss: 0.0653\n",
            "Epoch 37/100\n",
            "455/455 [==============================] - 0s 1ms/step - loss: 0.0585\n",
            "Epoch 38/100\n",
            "455/455 [==============================] - 0s 1ms/step - loss: 0.0626\n",
            "Epoch 39/100\n",
            "455/455 [==============================] - 1s 1ms/step - loss: 0.0651\n",
            "Epoch 40/100\n",
            "455/455 [==============================] - 1s 1ms/step - loss: 0.0527\n",
            "Epoch 41/100\n",
            "455/455 [==============================] - 0s 1ms/step - loss: 0.0525\n",
            "Epoch 42/100\n",
            "455/455 [==============================] - 0s 1ms/step - loss: 0.0575\n",
            "Epoch 43/100\n",
            "455/455 [==============================] - 0s 1ms/step - loss: 0.0526\n",
            "Epoch 44/100\n",
            "455/455 [==============================] - 0s 1ms/step - loss: 0.0410\n",
            "Epoch 45/100\n",
            "455/455 [==============================] - 0s 1ms/step - loss: 0.0451\n",
            "Epoch 46/100\n",
            "455/455 [==============================] - 0s 1ms/step - loss: 0.0394\n",
            "Epoch 47/100\n",
            "455/455 [==============================] - 0s 1ms/step - loss: 0.0488\n",
            "Epoch 48/100\n",
            "455/455 [==============================] - 0s 1ms/step - loss: 0.0539\n",
            "Epoch 49/100\n",
            "455/455 [==============================] - 0s 1ms/step - loss: 0.0434\n",
            "Epoch 50/100\n",
            "455/455 [==============================] - 0s 1ms/step - loss: 0.0599\n",
            "Epoch 51/100\n",
            "455/455 [==============================] - 0s 1ms/step - loss: 0.0471\n",
            "Epoch 52/100\n",
            "455/455 [==============================] - 0s 1ms/step - loss: 0.0268\n",
            "Epoch 53/100\n",
            "455/455 [==============================] - 0s 1ms/step - loss: 0.0304\n",
            "Epoch 54/100\n",
            "455/455 [==============================] - 0s 1ms/step - loss: 0.0334\n",
            "Epoch 55/100\n",
            "455/455 [==============================] - 0s 1ms/step - loss: 0.0487\n",
            "Epoch 56/100\n",
            "455/455 [==============================] - 0s 1ms/step - loss: 0.0429\n",
            "Epoch 57/100\n",
            "455/455 [==============================] - 0s 1ms/step - loss: 0.0273\n",
            "Epoch 58/100\n",
            "455/455 [==============================] - 0s 1ms/step - loss: 0.0243\n",
            "Epoch 59/100\n",
            "455/455 [==============================] - 0s 1ms/step - loss: 0.0331\n",
            "Epoch 60/100\n",
            "455/455 [==============================] - 0s 1ms/step - loss: 0.0249\n",
            "Epoch 61/100\n",
            "455/455 [==============================] - 0s 1ms/step - loss: 0.0304\n",
            "Epoch 62/100\n",
            "455/455 [==============================] - 0s 1ms/step - loss: 0.0358\n",
            "Epoch 63/100\n",
            "455/455 [==============================] - 0s 1ms/step - loss: 0.0334\n",
            "Epoch 64/100\n",
            "455/455 [==============================] - 0s 1ms/step - loss: 0.0349\n",
            "Epoch 65/100\n",
            "455/455 [==============================] - 0s 1ms/step - loss: 0.0372\n",
            "Epoch 66/100\n",
            "455/455 [==============================] - 0s 1ms/step - loss: 0.0407\n",
            "Epoch 67/100\n",
            "455/455 [==============================] - 1s 1ms/step - loss: 0.0159\n",
            "Epoch 68/100\n",
            "455/455 [==============================] - 0s 1ms/step - loss: 0.0389\n",
            "Epoch 69/100\n",
            "455/455 [==============================] - 0s 1ms/step - loss: 0.0444\n",
            "Epoch 70/100\n",
            "455/455 [==============================] - 0s 1ms/step - loss: 0.0286\n",
            "Epoch 71/100\n",
            "455/455 [==============================] - 0s 1ms/step - loss: 0.0111\n",
            "Epoch 72/100\n",
            "455/455 [==============================] - 0s 1ms/step - loss: 0.0377\n",
            "Epoch 73/100\n",
            "455/455 [==============================] - 0s 1ms/step - loss: 0.0157\n",
            "Epoch 74/100\n",
            "455/455 [==============================] - 0s 1ms/step - loss: 0.0201\n",
            "Epoch 75/100\n",
            "455/455 [==============================] - 0s 1ms/step - loss: 0.0180\n",
            "Epoch 76/100\n",
            "455/455 [==============================] - 1s 1ms/step - loss: 0.0318\n",
            "Epoch 77/100\n",
            "455/455 [==============================] - 0s 1ms/step - loss: 0.0204\n",
            "Epoch 78/100\n",
            "455/455 [==============================] - 0s 1ms/step - loss: 0.0116\n",
            "Epoch 79/100\n",
            "455/455 [==============================] - 0s 1ms/step - loss: 0.0242\n",
            "Epoch 80/100\n",
            "455/455 [==============================] - 0s 1ms/step - loss: 0.0194\n",
            "Epoch 81/100\n",
            "455/455 [==============================] - 0s 1ms/step - loss: 0.0129\n",
            "Epoch 82/100\n",
            "455/455 [==============================] - 1s 1ms/step - loss: 0.0205\n",
            "Epoch 83/100\n",
            "455/455 [==============================] - 0s 1ms/step - loss: 0.0158\n",
            "Epoch 84/100\n",
            "455/455 [==============================] - 0s 1ms/step - loss: 0.0170\n",
            "Epoch 85/100\n",
            "455/455 [==============================] - 0s 1ms/step - loss: 0.0156\n",
            "Epoch 86/100\n",
            "455/455 [==============================] - 0s 1ms/step - loss: 0.0296\n",
            "Epoch 87/100\n",
            "455/455 [==============================] - 0s 1ms/step - loss: 0.0152\n",
            "Epoch 88/100\n",
            "455/455 [==============================] - 0s 1ms/step - loss: 0.0166\n",
            "Epoch 89/100\n",
            "455/455 [==============================] - 0s 1ms/step - loss: 0.0226\n",
            "Epoch 90/100\n",
            "455/455 [==============================] - 0s 1ms/step - loss: 0.0161\n",
            "Epoch 91/100\n",
            "455/455 [==============================] - 0s 1ms/step - loss: 0.0166\n",
            "Epoch 92/100\n",
            "455/455 [==============================] - 0s 1ms/step - loss: 0.0251\n",
            "Epoch 93/100\n",
            "455/455 [==============================] - 0s 1ms/step - loss: 0.0107\n",
            "Epoch 94/100\n",
            "455/455 [==============================] - 0s 1ms/step - loss: 0.0096\n",
            "Epoch 95/100\n",
            "455/455 [==============================] - 0s 1ms/step - loss: 0.0042\n",
            "Epoch 96/100\n",
            "455/455 [==============================] - 0s 1ms/step - loss: 0.0244\n",
            "Epoch 97/100\n",
            "455/455 [==============================] - 0s 1ms/step - loss: 0.0198\n",
            "Epoch 98/100\n",
            "455/455 [==============================] - 0s 1ms/step - loss: 0.0107\n",
            "Epoch 99/100\n",
            "455/455 [==============================] - 0s 1ms/step - loss: 0.0098\n",
            "Epoch 100/100\n",
            "455/455 [==============================] - 0s 1ms/step - loss: 0.0281\n"
          ],
          "name": "stdout"
        },
        {
          "output_type": "execute_result",
          "data": {
            "text/plain": [
              "<keras.callbacks.callbacks.History at 0x7fcc59afc7f0>"
            ]
          },
          "metadata": {
            "tags": []
          },
          "execution_count": 8
        }
      ]
    },
    {
      "cell_type": "code",
      "metadata": {
        "id": "W_nrNA7IdHfb",
        "colab_type": "code",
        "colab": {}
      },
      "source": [
        "Y_pred = classifier.predict(X_test)\n",
        "Y_pred = [1 if y >= 0.5 else 0 for y in Y_pred]"
      ],
      "execution_count": 9,
      "outputs": []
    },
    {
      "cell_type": "code",
      "metadata": {
        "id": "KxZYhAzkdTds",
        "colab_type": "code",
        "colab": {
          "base_uri": "https://localhost:8080/",
          "height": 85
        },
        "outputId": "494ebdde-1454-4f88-cfcd-a11ac6a02ae9"
      },
      "source": [
        "total = 0\n",
        "correct = 0 \n",
        "wrong = 0\n",
        "for i in Y_pred:\n",
        "  total = total + 1\n",
        "  if(Y_test.at[i,0] == Y_pred[i]):\n",
        "    correct = correct + 1\n",
        "  else:\n",
        "    wrong = wrong + 1\n",
        "print(\"Total = \" + str(total))\n",
        "print(\"Correct = \" + str(correct))\n",
        "print(\"Wrong = \" + str(wrong))\n",
        "print(\"Accuracy = \" + str((correct/total)*100) + \"%\")"
      ],
      "execution_count": 10,
      "outputs": [
        {
          "output_type": "stream",
          "text": [
            "Total = 114\n",
            "Correct = 114\n",
            "Wrong = 0\n",
            "Accuracy = 100.0%\n"
          ],
          "name": "stdout"
        }
      ]
    }
  ]
}